{
 "cells": [
  {
   "cell_type": "code",
   "execution_count": null,
   "metadata": {},
   "outputs": [
    {
     "name": "stdout",
     "output_type": "stream",
     "text": [
      "Data fetched successfully\n",
      "Data saved to courses.csv\n"
     ]
    }
   ],
   "source": [
    "import requests\n",
    "import csv\n",
    "\n",
    "headers = {\n",
    "    'User-Agent': 'Mozilla/5.0 (Windows NT 10.0; Win64; x64) AppleWebKit/537.36 (KHTML, like Gecko) Chrome/94.0.4606.61 Safari/537.36',\n",
    "    'Referer': 'https://dkuhub.dku.edu.cn/',\n",
    "    'Accept': 'text/html,application/xhtml+xml,application/xml;q=0.9,image/webp,image/apng,*/*;q=0.8',\n",
    "    'Accept-Language': 'en-US,en;q=0.9',\n",
    "}\n",
    "\n",
    "cookies = {'_shibstate_1732581882_5a94': 'https%3A%2F%2Fdkuhub.dku.edu.cn%2Fpsp%2FCSPRD01%2FEMPLOYEE%2FSA%2F%3Fcmd%3Dexpire', '_opensaml_req_cookie%3A1732581882_5a94': '_bac8718e216f9183c044ef0d8c84f2e6', 'ksis-csweb-302-5600-PORTAL-PSJSESSIONID': 'dXJnWTAvbM7OXk3xP1ZMZ20HpZaWG4N0!-448142516', 'PS_LOGINLIST': 'https://dkuhub.dku.edu.cn/CSPRD01', 'SignOnDefault': '', 'ps_theme': 'node:SA portal:EMPLOYEE theme_id:DKU_THEME_FLUID css:DKU_BRAND_CLASSIC_TEMPLTE_FL css_f:DKU_BRAND_FLUID_TEMPLATE accessibility:N macroset:DKU_DEFAULT_MACROSET_855 formfactor:3 piamode:2', 'psback': '%22%22url%22%3A%22https%3A%2F%2Fdkuhub.dku.edu.cn%2Fpsc%2FCSPRD01%2FEMPLOYEE%2FSA%2Fc%2FNUI_FRAMEWORK.PT_LANDINGPAGE.GBL%3Fpage%3DPT_LANDINGPAGE%22%20%22label%22%3A%22Student%20Homepage%22%20%22origin%22%3A%22PIA%22%20%22layout%22%3A%221%22%20%22refurl%22%3A%22https%3A%2F%2Fdkuhub.dku.edu.cn%2Fpsc%2FCSPRD01%2FEMPLOYEE%2FSA%22%22', 'hpt_institution': 'DKUNV', '_shibstate_1732615266_e89c': 'https%3A%2F%2Fdkuhub.dku.edu.cn%2Fpsc%2FCSPRD01%2FEMPLOYEE%2FSA%2Fs%2FWEBLIB_TIMEOUT.PT_TIMEOUTWARNING.FieldFormula.IScript_TIMEOUTWARNING', '_opensaml_req_cookie%3A1732615266_e89c': '_2e0e02664a82a69fbc46d4c77f7cf954', '_shibstate_1732623391_d840': 'https%3A%2F%2Fdkuhub.dku.edu.cn%2Fpsp%2FCSPRD01%2FEMPLOYEE%2FSA%2F%3Fcmd%3Dexpire', '_opensaml_req_cookie%3A1732623391_d840': '_e9d8418b12f7e7868a6cba8138f54555', '_shibsession_64656661756c7468747470733a2f2f646b756875622e646b752e6564752e636e': '_28a4d912b7b0684637fec7c4c2f40d92', 'BIGipServer9lxQHza3acyvx9xHdZ/lBg': '!Eq4WxYx5ZitWICbmios+imbihLe+UlZz3LvRdUfTi02fRT14M/sPh/ZQUHhPyH9/Kkw8mJfY9k+4sgE=', 'ksis-csweb-303-5600-PORTAL-PSJSESSIONID': '8rZo-YXnPyM4gAY_d5inddN0rqV9UmLk!1832798277', 'PS_TokenSite': 'https://dkuhub.dku.edu.cn/psc/CSPRD01/?ksis-csweb-303-5600-PORTAL-PSJSESSIONID', 'PS_TOKEN': 'pAAAAAQDAgEBAAAAvAIAAAAAAAAsAAAABABTaGRyAk4AcQg4AC4AMQAwABRsegZxVOvEW1LaMAFfAiYHi1h/omQAAAAFAFNkYXRhWHicHYpBCoAwEAOnVTyKH6m0ta16FvUmgt59g//zcS6bhWSW5AXqyhoj+VlUXcAT5GYmzWblYKc9udi4eViEUpRZJOF05IRHcU+hJ6snBuUgTdGPH3IJC0s=', 'PS_DEVICEFEATURES': 'width:1536 height:864 pixelratio:1 touch:0 geolocation:1 websockets:1 webworkers:1 datepicker:1 dtpicker:1 timepicker:1 dnd:1 sessionstorage:1 localstorage:1 history:1 canvas:1 svg:1 postmessage:1 hc:0 maf:0', 'ExpirePage': 'https://dkuhub.dku.edu.cn/psp/CSPRD01/', 'PS_LASTSITE': 'https://dkuhub.dku.edu.cn/psp/CSPRD01/', 'CSRFCookie': 'f30203ca-e160-4b4e-9a3b-0b4f6d19eefa', 'PS_TOKENEXPIRE': '26_Nov_2024_15:10:11_GMT'}\n",
    "\n",
    "url = 'https://dkuhub.dku.edu.cn/psc/CSPRD01/EMPLOYEE/SA/s/WEBLIB_HCX_CM.H_CLASS_SEARCH.FieldFormula.IScript_ClassSearch?institution=DKUNV&term=2248&date_from=&date_thru=&subject=&subject_like=&catalog_nbr=&start_time_equals=&start_time_ge=&end_time_equals=&end_time_le=&days=&campus=&location=&x_acad_career=UGRD&acad_group=&rqmnt_designtn=&instruction_mode=&keyword=&class_nbr=&acad_org=&enrl_stat=&crse_attr=&crse_attr_value=&instructor_name=&instr_first_name=&session_code=&units=&trigger_search=&page=10'\n",
    "\n",
    "response = requests.get(url, cookies=cookies)\n",
    "\n",
    "if response.status_code == 200:\n",
    "    data = response.json()\n",
    "    with open('courses.csv', 'w', newline='', encoding='utf-8') as csvfile:\n",
    "        fieldnames = ['course_id', 'type_id', 'title', 'semester', 'session', 'days', 'start_time', 'end_time', 'status_number', 'instructor', 'units']\n",
    "        writer = csv.DictWriter(csvfile, fieldnames=fieldnames)\n",
    "        writer.writeheader()\n",
    "\n",
    "        for course in data:\n",
    "            type_id = course.get('component', 'NULL')\n",
    "            title = f\"{course.get('subject', '')} {course.get('catalog_nbr', '')}\".strip() or 'NULL'\n",
    "            semester = \"Fall2024\"  \n",
    "            session = course.get('session_code', 'NULL')\n",
    "            course_id = f\"{semester}-{course.get('class_nbr', 'NULL')}\"\n",
    "            days = course['meetings'][0].get('days', 'NULL') if 'meetings' in course and course['meetings'] else 'NULL'\n",
    "            start_time = course['meetings'][0].get('start_time', 'NULL')[:5] if 'meetings' in course and course['meetings'] else 'NULL'\n",
    "            end_time = course['meetings'][0].get('end_time', 'NULL')[:5] if 'meetings' in course and course['meetings'] else 'NULL'\n",
    "            status_number = course.get('class_capacity', 'NULL')\n",
    "            units = course.get('units', 'NULL')\n",
    "            instructors = course.get('instructors', [])\n",
    "            instructor_names = ', '.join([instructor['name'] for instructor in instructors]) if instructors else 'NULL'\n",
    "\n",
    "            writer.writerow({\n",
    "                'course_id': course_id,\n",
    "                'type_id': type_id,\n",
    "                'title': title,\n",
    "                'semester': semester,\n",
    "                'session': session,\n",
    "                'days': days,\n",
    "                'start_time': start_time,\n",
    "                'end_time': end_time,\n",
    "                'status_number': status_number,\n",
    "                'instructor': instructor_names,\n",
    "                'units': units\n",
    "            })\n",
    "\n",
    "    print(\"Data saved to courses.csv\")\n",
    "else:\n",
    "    print(f\"Failed to fetch data: {response.status_code}\")\n"
   ]
  }
 ],
 "metadata": {
  "kernelspec": {
   "display_name": "Python 3",
   "language": "python",
   "name": "python3"
  },
  "language_info": {
   "codemirror_mode": {
    "name": "ipython",
    "version": 3
   },
   "file_extension": ".py",
   "mimetype": "text/x-python",
   "name": "python",
   "nbconvert_exporter": "python",
   "pygments_lexer": "ipython3",
   "version": "3.11.4"
  }
 },
 "nbformat": 4,
 "nbformat_minor": 2
}
