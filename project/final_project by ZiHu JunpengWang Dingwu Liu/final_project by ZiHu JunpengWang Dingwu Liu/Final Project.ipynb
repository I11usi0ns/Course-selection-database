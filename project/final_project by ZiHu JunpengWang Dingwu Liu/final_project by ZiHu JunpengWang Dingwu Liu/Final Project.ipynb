{
 "cells": [
  {
   "cell_type": "markdown",
   "metadata": {},
   "source": [
    "# Final Project Report\n",
    "#### STATS 102 Introduction to Data Science Session 1, 2024 Fall  Due at Oct 17th 1:15pm  beijing time\n",
    "\n",
    "You can zip everything including the data (or box link) and the codes into a zip file and submit through canvas/assignment/final_project\n"
   ]
  },
  {
   "cell_type": "markdown",
   "metadata": {},
   "source": [
    "# Course Selection Planner\n",
    "\n",
    "- Zi Hu (zh180@duke.edu)\n",
    "- Junpeng Wang (jw901@duke.edu)\n",
    "- Dingwu Liu (dl406@duke.edu)"
   ]
  },
  {
   "cell_type": "markdown",
   "metadata": {},
   "source": [
    "## 1 Introduction\n",
    "```\n",
    "In DKU, Students often met lots of difficulties when selection the course. Therefore, our project focus is on developing a solution to streamline course selection, specifically targeting mandatory, specialized, or required courses for students. The goal is to provide scheduling options that prevent time conflicts, allowing students to make more informed, quicker and better decisions. Additionally, the system suggests schedules with higher selection success ratings, making course selection more secure.  \n",
    "```"
   ]
  },
  {
   "cell_type": "markdown",
   "metadata": {},
   "source": [
    "## 2 Background\n",
    "```\n",
    "Help students avoid overlapping schedules and optimize their class timings.\n",
    "```"
   ]
  },
  {
   "cell_type": "markdown",
   "metadata": {},
   "source": [
    "## 3 Design and Implementation\n",
    "\n",
    "#### First we Extract data from DKU Hub:​\n",
    "```\n",
    "\n",
    "1.Using Python requests and cookies.​\n",
    "\n",
    "2.Finding useful message:​\n",
    "\n",
    "Section, Title, Session, Days, Start time, End time, Status ,Unit.​\n",
    "```\n",
    "\n",
    "​\n",
    "\n",
    "#### Message from Users:​\n",
    "```\n",
    "1.Grade (Determine the order of course selection)​\n",
    "\n",
    "2.Required course/class number (COMSCI201 / class 1120)​\n",
    "\n",
    "3.Required major (STATS/COMSCI/EAP) and level of courses.​\n",
    "\n",
    "4.Classes already taken. ​\n",
    "\n",
    "5.Times that don't want to take class.​\n",
    "```\n",
    "\n",
    "​\n",
    "\n",
    "#### Finding plans without time confliction:​\n",
    "```\n",
    "\n",
    "Enumerate and search, then check for time conflicts.\n",
    "```\n",
    "\n",
    "\n",
    "#### Rank the plans with selection success rates:​\n",
    "```\n",
    "\n",
    "Logistic regression is used to calculate the success rate of each plans.​\n",
    "```\n",
    "\n",
    "\n",
    "#### Construction of data for machine learning:​\n",
    "```\n",
    "The biggest problem is that there is no data on students' first choice and success rate when selecting courses in the past, so we decided to use construction data to simulate the selection process. The conditions of construction are as follows:​\n",
    "```\n",
    "##### Data construction method1:\n",
    "```\n",
    "Automatically filters courses with Unit 0, and only courses with Unit 2 or 4 are selected\n",
    "The data simulated individual scenarios of 1550 students, including 300 seniors, 350 juniors, 400 sophomores, and 500 freshmen, in that order. Each student randomly chooses a maximum of 3 courses with a total score of 8 or 10, provided that the selected courses do not conflict with each other. At the same time, each student chooses a time period (1.8:30-9:45 2.10:00-12:00 3.1:15-2:30 4.2:45-5:5). Courses are available at all times), do not select courses that start during this time period.\n",
    "Data for each student:\n",
    "1.Student number (seniors ranked first, then juniors and sophomores) 2. Student's grade (1/2/3/4) 3. Select the total score (8 or 10) 4. Time period (1,2,3,4,5) when you do not want to choose a course (section 1, such as 002-SEM (1086)) 6. Selected Course 2 (section) 7. Selected Course 3 (NA if not available)\n",
    "\n",
    "Then these data are processed twice to judge whether a student's course selection is successful, and added to each student's data as the eighth attribute \"Success\", success is 1 and failure is 0. The criterion is whether all the courses selected are available. At the beginning, the vacancy of each course is equal to its \"Status\" attribute, and all students select from the top to the bottom according to grade. If the selection is successful, all the vacancy of courses in the student program -1 and his success is set to 1; If the selection fails, proceed to the next student's selection, skip the current student and set his Success to 0.\n",
    "\n",
    "The accuracy of the obtained data is average. The possible reason for my personal speculation is that the random data has the problem of senior and junior students grabbing classes, and it cannot reflect the popularity of some popular instructors and courses, so the prediction probability is lower than the actual value.\n",
    "dataall2-x is the data I generated, contains 5*1550 pieces of student data. The logistic regression model was used with reference to GPT.\n",
    "\n",
    "In addition, lab and rec are excluded in the calculation of probability, because there is no case of selecting lec but not lab and rec, which does not affect the probability.\n",
    "The preliminary scheme is read from the combination.csv, the probabilities are calculated and sorted, and the answer is output to answer.csv.\n",
    "```\n",
    "\n",
    "##### Data construction method2:\n",
    "```\n",
    "For the 1550 student data generated, most of the generation rules remain the same, but there can be time conflicts between courses (i.e., 2-3 different courses with a total score of 8-10 are selected completely at random). In the success attribute, success is 1 and status-1 only when the time between courses is not conflicting and the current status of all selected courses is not 0. Otherwise, success is 0 and the student is skipped.\n",
    "randomall.csv is the data generated using method 2, Contains 5*1550 pieces of student data.\n",
    "\n",
    "The accuracy obtained is relatively high, but the observation shows that the predicted values are all very low. It is speculated that the reason is that the predicted values are too biased to one side, which affects the accuracy of the data.\n",
    "The actual probability is more in favor of method 1.\n",
    "```\n",
    "```\n",
    "When training the model, the student's grade, credits, and the time they didn't want to go to class also improved accuracy.\n",
    "```"
   ]
  },
  {
   "cell_type": "markdown",
   "metadata": {},
   "source": [
    "## 4 Results\n",
    "```\n",
    "We compared two approaches:\n",
    "\n",
    "Direct Prediction with Logistic Regression: Used on randomized course plans but without accounting for conflicts upfront.\n",
    "Prediction after Conflict Elimination: We found that first eliminating conflicts through enumeration improved the accuracy of logistic regression, leading to more reliable results.\n",
    "\n",
    "Our final system choice integrates machine learning with conflict-checking algorithms, ensuring that students receive optimized, conflict-free schedules. This combination significantly enhances the precision of course recommendations and helps students make confident, well-informed decisions.\n",
    "```"
   ]
  },
  {
   "cell_type": "markdown",
   "metadata": {},
   "source": [
    "## 5 Conclusion\n",
    "```\n",
    "The course selection system offers a practical and efficient solution to the challenges faced by DKU students. By leveraging data from DKU Hub, user inputs, and machine learning, it provides schedules tailored to individual preferences and academic needs. This system not only reduces time conflicts but also improves the success rate of course registration, ensuring students can select courses with greater confidence. With additional data on student preferences, future iterations of the system can further improve in accuracy and usability.\n",
    "\n",
    "The integration of automated processes and student-specific inputs ensures that the system remains adaptive, helping students effectively meet their academic goals.\n",
    "Further optimization in the future can focus on acquiring real student data and experimenting with other more complex machine learning models. The focus of application optimization is to give more personalized recommendations to students in different majors.\n",
    "```"
   ]
  },
  {
   "cell_type": "markdown",
   "metadata": {},
   "source": [
    "## 6 Individual Countribution\n",
    "```\n",
    "Hu Zi : Data collection and analyzation, selection algorithm, simulation data construction, Poster\n",
    "Junpeng Wang :Data collection and analyzation, selection algorithm, UI \n",
    "Dingwu Liu : Data collection, UI，Poster\n",
    "```"
   ]
  },
  {
   "cell_type": "markdown",
   "metadata": {},
   "source": [
    "## Appendix\n",
    "```\n",
    "Code and detail explanations are in planner.ipynb, datas are in the same file. Please read README.txt.\n",
    "```"
   ]
  }
 ],
 "metadata": {
  "kernelspec": {
   "display_name": "Python 3",
   "language": "python",
   "name": "python3"
  },
  "language_info": {
   "codemirror_mode": {
    "name": "ipython",
    "version": 3
   },
   "file_extension": ".py",
   "mimetype": "text/x-python",
   "name": "python",
   "nbconvert_exporter": "python",
   "pygments_lexer": "ipython3",
   "version": "3.6.9"
  }
 },
 "nbformat": 4,
 "nbformat_minor": 2
}
